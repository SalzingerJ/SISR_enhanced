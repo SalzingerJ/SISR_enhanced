{
 "cells": [
  {
   "cell_type": "code",
   "execution_count": null,
   "id": "7161ebcb",
   "metadata": {},
   "outputs": [],
   "source": [
    "# Copyright 2025 AIT Austrian Institute of Technology GmbH\n",
    "#\n",
    "# Licensed under the Apache License, Version 2.0 (the \"License\");\n",
    "# you may not use this file except in compliance with the License.\n",
    "# You may obtain a copy of the License at\n",
    "#\n",
    "#     http://www.apache.org/licenses/LICENSE-2.0\n",
    "#\n",
    "# Unless required by applicable law or agreed to in writing, software\n",
    "# distributed under the License is distributed on an \"AS IS\" BASIS,\n",
    "# WITHOUT WARRANTIES OR CONDITIONS OF ANY KIND, either express or implied.\n",
    "# See the License for the specific language governing permissions and\n",
    "# limitations under the License.\n",
    "# Author: Miguel Castells"
   ]
  },
  {
   "cell_type": "code",
   "execution_count": null,
   "id": "99af2ec6",
   "metadata": {},
   "outputs": [],
   "source": [
    "import open_clip\n",
    "from huggingface_hub import hf_hub_download\n",
    "import torch\n",
    "import torchvision\n",
    "import matplotlib.pyplot as plt\n",
    "import numpy as np\n",
    "from PIL import Image\n",
    "import torch.nn.functional as F\n",
    "import clip\n",
    "from tqdm.auto import tqdm\n",
    "import os\n",
    "import json\n",
    "from transformers import AutoProcessor, AutoModel"
   ]
  },
  {
   "cell_type": "code",
   "execution_count": null,
   "id": "fc89f900",
   "metadata": {},
   "outputs": [
    {
     "data": {
      "text/plain": [
       "\"# examples\\nimg = Image.open('/workspace/data/Satlas/val_set/naip/m_2408115_sw_17_060_20191128/35956_56214/rgb.png')\\nimg2 = Image.open('/workspace/data/Satlas/val_set/naip/m_2408122_ne_17_060_20191128/35944_56235/rgb.png') \\nimg3 = Image.open('/workspace/data/Satlas/val_set/naip/m_2408129_ne_17_060_20191128/35904_56295/rgb.png') \\nimg4 = Image.open('/workspace/data/Satlas/val_set/naip/m_4911662_se_11_060_20190820/23190_44989/rgb.png') \\nlist_imgs = [img, img2, img3, img4]\""
      ]
     },
     "execution_count": 2,
     "metadata": {},
     "output_type": "execute_result"
    }
   ],
   "source": [
    "device = 'cuda:0'"
   ]
  },
  {
   "cell_type": "markdown",
   "id": "acc4a377",
   "metadata": {},
   "source": [
    "# Remote-CLIP\n",
    "## Download weights"
   ]
  },
  {
   "cell_type": "code",
   "execution_count": null,
   "id": "fb52c0a5",
   "metadata": {},
   "outputs": [
    {
     "name": "stdout",
     "output_type": "stream",
     "text": [
      "ViT-L-14 is downloaded to checkpoints/models--chendelong--RemoteCLIP/snapshots/bf1d8a3ccf2ddbf7c875705e46373bfe542bce38/RemoteCLIP-ViT-L-14.pt.\n"
     ]
    }
   ],
   "source": [
    "'''for model_name in ['ViT-L-14']:\n",
    "    checkpoint_path = hf_hub_download(\"chendelong/RemoteCLIP\", f\"RemoteCLIP-{model_name}.pt\", cache_dir='checkpoints')\n",
    "    print(f'{model_name} is downloaded to {checkpoint_path}.')'''"
   ]
  },
  {
   "cell_type": "markdown",
   "id": "7e9622e1",
   "metadata": {},
   "source": [
    "## Compute Remote-CLIP"
   ]
  },
  {
   "cell_type": "code",
   "execution_count": null,
   "id": "8e84882a",
   "metadata": {},
   "outputs": [
    {
     "name": "stdout",
     "output_type": "stream",
     "text": [
      "<All keys matched successfully>\n"
     ]
    }
   ],
   "source": [
    "rem_model_name = 'ViT-L-14' \n",
    "rem_model, _, rem_preprocess = open_clip.create_model_and_transforms(rem_model_name)\n",
    "\n",
    "ckpt = torch.load(f\"PATH_TO_CHECKPOINTS/checkpoints/models--chendelong--RemoteCLIP/snapshots/bf1d8a3ccf2ddbf7c875705e46373bfe542bce38/RemoteCLIP-ViT-L-14.pt\", map_location=\"cpu\")\n",
    "message = rem_model.load_state_dict(ckpt)\n",
    "print(message)\n",
    "\n",
    "rem_model = rem_model.to(device).eval()"
   ]
  },
  {
   "cell_type": "code",
   "execution_count": 15,
   "id": "68bfab00",
   "metadata": {},
   "outputs": [],
   "source": [
    "def compute_rem_clip_feats(list_img):\n",
    "    '''\n",
    "    Input : list of PIL.Image \n",
    "    Return features of shape [B, 768], B = len(list_img)\n",
    "    '''\n",
    "    processed_images = torch.stack([rem_preprocess(img) for img in list_img])\n",
    "\n",
    "    with torch.no_grad(), torch.cuda.amp.autocast():\n",
    "        image_features = rem_model.encode_image(processed_images.to(device))\n",
    "        image_features /= image_features.norm(dim=-1, keepdim=True)\n",
    "\n",
    "    return image_features\n",
    "\n",
    "#compute_rem_clip_feats([img, img2, img3, img4])"
   ]
  },
  {
   "cell_type": "markdown",
   "id": "0e31c5eb",
   "metadata": {},
   "source": [
    "# OPENAI-CLIP\n",
    "## Download model (CLIPA-v2)"
   ]
  },
  {
   "cell_type": "code",
   "execution_count": 3,
   "id": "80f6c5cb",
   "metadata": {},
   "outputs": [],
   "source": [
    "open_model_name = 'clipa-ViT-bigG-14'    \n",
    "\n",
    "def open_load_model(open_model_name):\n",
    "    if open_model_name == 'clip-ViT-B/16':\n",
    "        model, _ = clip.load(\"ViT-B/16\")\n",
    "        img_size = (224,224)\n",
    "    elif open_model_name == 'clipa-ViT-bigG-14':\n",
    "        model, _, _ = open_clip.create_model_and_transforms('ViT-bigG-14-CLIPA-336', pretrained='datacomp1b')\n",
    "        img_size = (336,336)\n",
    "    elif open_model_name == 'siglip-ViT-SO400M-14':\n",
    "        model, _, _ = open_clip.create_model_and_transforms('ViT-SO400M-14-SigLIP-384', pretrained='webli')\n",
    "        model = model\n",
    "        img_size = (384,384)\n",
    "    else:\n",
    "        print(clip_model, \" is not supported for CLIPScore.\")\n",
    "    return model, img_size\n",
    "\n",
    "#open_model, open_img_size = open_load_model(open_model_name)"
   ]
  },
  {
   "cell_type": "code",
   "execution_count": 4,
   "id": "80e7d8ca",
   "metadata": {},
   "outputs": [],
   "source": [
    "# FOR LIST OF IMAGES\n",
    "def open_preprocess(img, img_size):\n",
    "    img = np.array(img)\n",
    "    tensor1 = torch.as_tensor(img).permute(2, 0, 1)\n",
    "    tensor1 = tensor1.unsqueeze(0).float()/255\n",
    "    tensor1 = F.interpolate(tensor1, img_size)\n",
    "    return tensor1.squeeze(0)"
   ]
  },
  {
   "cell_type": "markdown",
   "id": "2fcb6e1c",
   "metadata": {},
   "source": [
    "## Compute features"
   ]
  },
  {
   "cell_type": "code",
   "execution_count": 5,
   "id": "09787b74",
   "metadata": {},
   "outputs": [],
   "source": [
    "def compute_open_clip_feats(list_imgs, open_model, img_size, batch_size=5):\n",
    "    '''\n",
    "    Input : list of PIL.Image and the model\n",
    "    Return features of shape [B, 1280], B = len(list_img)\n",
    "    '''\n",
    "    preprocessed_imgs = [open_preprocess(img, img_size=img_size) for img in list_imgs]\n",
    "\n",
    "    feats = []\n",
    "    open_model.eval().to(device)\n",
    "\n",
    "    with torch.no_grad():\n",
    "        for i in range(0, len(preprocessed_imgs), batch_size):\n",
    "            batch = torch.stack(preprocessed_imgs[i:i+batch_size]).to(device)  # shape [B, C, H, W]\n",
    "            batch_feats = open_model.encode_image(batch)\n",
    "            feats.append(batch_feats.cpu())  # move to CPU to save GPU memory\n",
    "\n",
    "    return torch.cat(feats, dim=0)\n",
    "\n",
    "#feats = compute_open_clip_feats(list_imgs)\n",
    "#feats.shape"
   ]
  },
  {
   "cell_type": "markdown",
   "id": "fcde4320",
   "metadata": {},
   "source": [
    "# RS-CLIP\n",
    "## Download the model"
   ]
  },
  {
   "cell_type": "code",
   "execution_count": 3,
   "id": "640e3f97",
   "metadata": {},
   "outputs": [
    {
     "name": "stderr",
     "output_type": "stream",
     "text": [
      "Using a slow image processor as `use_fast` is unset and a slow processor was saved with this model. `use_fast=True` will be the default behavior in v4.52, even if the model was saved with a slow processor. This will result in minor differences in outputs. You'll still be able to use a slow processor with `use_fast=False`.\n"
     ]
    }
   ],
   "source": [
    "rs_model = AutoModel.from_pretrained(\"lcybuaa/Git-RSCLIP\")\n",
    "rs_processor = AutoProcessor.from_pretrained(\"lcybuaa/Git-RSCLIP\")"
   ]
  },
  {
   "cell_type": "markdown",
   "id": "a06aae2d",
   "metadata": {},
   "source": [
    "## Compute features "
   ]
  },
  {
   "cell_type": "code",
   "execution_count": 27,
   "id": "bedb14cb",
   "metadata": {},
   "outputs": [],
   "source": [
    "def compute_rs_clip_feats(list_img):\n",
    "    '''\n",
    "    Input : list of PIL.Image \n",
    "    Return features of shape [B, 1024], B = len(list_img)\n",
    "    '''\n",
    "    processed_images = rs_processor(images=list_img, return_tensors=\"pt\")\n",
    "\n",
    "    with torch.no_grad():\n",
    "        image_features = rs_model.get_image_features(**processed_images.to(device))\n",
    "\n",
    "    return image_features\n"
   ]
  },
  {
   "cell_type": "markdown",
   "id": "bb1cc6d7",
   "metadata": {},
   "source": [
    "# GeoRSCLIP\n",
    "## Download model"
   ]
  },
  {
   "cell_type": "code",
   "execution_count": 41,
   "id": "5f977621",
   "metadata": {},
   "outputs": [],
   "source": [
    "ckpt_path = \"/workspace/framework_choose_lr/dev/clip_study/checkpoints/Geo_RSCLIP_RS5M_ViT-B-32.pt\"\n",
    "geo_model, _, _ = open_clip.create_model_and_transforms(\"ViT-B/32\", pretrained=\"openai\")\n",
    "checkpoint = torch.load(ckpt_path, map_location=\"cpu\")\n",
    "msg = geo_model.load_state_dict(checkpoint, strict=False)\n",
    "geo_model = geo_model.to(device)"
   ]
  },
  {
   "cell_type": "code",
   "execution_count": 50,
   "id": "74ba9a34",
   "metadata": {},
   "outputs": [],
   "source": [
    "from torchvision import transforms\n",
    "\n",
    "def _convert_to_rgb(image):\n",
    "    return image.convert('RGB')\n",
    "\n",
    "def geo_processor():\n",
    "    image_resolution = 224\n",
    "    normalize = transforms.Normalize(\n",
    "            mean=[0.48145466, 0.4578275, 0.40821073], std=[0.26862954, 0.26130258, 0.27577711]\n",
    "        )\n",
    "    preprocess_val = transforms.Compose([\n",
    "            transforms.Resize(\n",
    "                size=image_resolution,\n",
    "                interpolation=transforms.InterpolationMode.BICUBIC,\n",
    "            ),\n",
    "            transforms.CenterCrop(image_resolution),\n",
    "            _convert_to_rgb,\n",
    "            transforms.ToTensor(),\n",
    "            normalize,\n",
    "        ])\n",
    "    return preprocess_val"
   ]
  },
  {
   "cell_type": "markdown",
   "id": "ea5afee5",
   "metadata": {},
   "source": [
    "## Compute features"
   ]
  },
  {
   "cell_type": "code",
   "execution_count": 52,
   "id": "c73d8964",
   "metadata": {},
   "outputs": [
    {
     "data": {
      "text/plain": [
       "torch.Size([4, 512])"
      ]
     },
     "execution_count": 52,
     "metadata": {},
     "output_type": "execute_result"
    }
   ],
   "source": [
    "def compute_geo_clip_feats(list_img):\n",
    "    '''\n",
    "    Input : list of PIL.Image \n",
    "    Return features of shape [B, 512], B = len(list_img)\n",
    "    '''\n",
    "    processed_images = torch.stack([geo_processor()(img) for img in list_img])\n",
    "\n",
    "    with torch.no_grad(), torch.cuda.amp.autocast():\n",
    "        image_features = geo_model.encode_image(processed_images.to(device))\n",
    "\n",
    "    return image_features\n",
    "\n",
    "# examples\n",
    "'''img = Image.open('/workspace/data/Satlas/val_set/naip/m_2408115_sw_17_060_20191128/35956_56214/rgb.png')\n",
    "img2 = Image.open('/workspace/data/Satlas/val_set/naip/m_2408122_ne_17_060_20191128/35944_56235/rgb.png') \n",
    "img3 = Image.open('/workspace/data/Satlas/val_set/naip/m_2408129_ne_17_060_20191128/35904_56295/rgb.png') \n",
    "img4 = Image.open('/workspace/data/Satlas/val_set/naip/m_4911662_se_11_060_20190820/23190_44989/rgb.png') \n",
    "list_imgs = [img, img2, img3, img4]\n",
    "compute_geo_clip_feats(list_imgs).shape'''"
   ]
  },
  {
   "cell_type": "markdown",
   "id": "ef936235",
   "metadata": {},
   "source": [
    "# Compute_scores"
   ]
  },
  {
   "cell_type": "code",
   "execution_count": 8,
   "id": "02f0d2b4",
   "metadata": {},
   "outputs": [],
   "source": [
    "def compute_clip_scores_inside(feats):\n",
    "    \"\"\"\n",
    "    Compute cosine similarities between all unique pairs in the batch (excluding duplicates).\n",
    "    Args:\n",
    "        feats: Tensor of shape [B, D]\n",
    "    Returns:\n",
    "        scores: List of cosine similarity scores, length = B*(B-1)/2\n",
    "    \"\"\"\n",
    "    B = feats.shape[0]\n",
    "    scores = []\n",
    "\n",
    "    for i in range(B):\n",
    "        ref = feats[i].unsqueeze(0) \n",
    "        others = feats[i+1:]         \n",
    "        if others.shape[0] == 0:\n",
    "            continue\n",
    "        sim = F.cosine_similarity(ref.expand_as(others), others, dim=1)\n",
    "        scores.extend(sim.cpu().tolist())\n",
    "\n",
    "    return scores\n",
    "\n",
    "def compute_cross_clip_scores(feats1, feats2):\n",
    "    \"\"\"\n",
    "    Calcule les cosine similarities entre tous les couples (i,j) avec i dans feats1 et j dans feats2\n",
    "    en utilisant torch.cosine_similarity.\n",
    "\n",
    "    Args:\n",
    "        feats1: Tensor [B1, D]\n",
    "        feats2: Tensor [B2, D]\n",
    "\n",
    "    Returns:\n",
    "        scores: Liste de floats de taille B1*B2 avec toutes les similarités.\n",
    "    \"\"\"\n",
    "    if torch.equal(feats1, feats2):\n",
    "        return compute_clip_scores_inside(feats1)\n",
    "\n",
    "    sim_matrix = F.cosine_similarity(feats1.unsqueeze(1), feats2.unsqueeze(0), dim=2)\n",
    "\n",
    "    return sim_matrix.flatten().cpu().tolist()\n",
    "\n",
    "\n",
    "#compute_cross_clip_scores(feats_imgs, feats_imgs[:2])"
   ]
  },
  {
   "cell_type": "markdown",
   "id": "23a5b828",
   "metadata": {},
   "source": [
    "# Get Images as list of PIL.Image"
   ]
  },
  {
   "cell_type": "code",
   "execution_count": 7,
   "id": "85257f78",
   "metadata": {},
   "outputs": [
    {
     "data": {
      "text/plain": [
       "'\\nsubfolder_path = \"/workspace/data/AID_sample_100png/celeba_sample_100.jpg\"\\nimages = load_images_from_subfolder(subfolder_path)\\nprint(f\"Nombre d\\'images chargées : {len(images)}\")\\ntype(images[0])'"
      ]
     },
     "execution_count": 7,
     "metadata": {},
     "output_type": "execute_result"
    }
   ],
   "source": [
    "import os\n",
    "\n",
    "def load_images_from_subfolder(subfolder_path):\n",
    "    \"\"\"\n",
    "    Charge toutes les images d'un dossier en liste de PIL.Image.\n",
    "    Supporte les extensions courantes : jpg, jpeg, png, bmp, tiff, etc.\n",
    "    \n",
    "    Args:\n",
    "        subfolder_path (str): chemin du sous-dossier contenant les images.\n",
    "        \n",
    "    Returns:\n",
    "        List[PIL.Image.Image]: liste des images chargées.\n",
    "    \"\"\"\n",
    "    valid_extensions = ('.jpg', '.jpeg', '.png', '.bmp', '.tiff', '.gif')\n",
    "    images = []\n",
    "    \n",
    "    # Lister les fichiers dans le dossier\n",
    "    for filename in os.listdir(subfolder_path):\n",
    "        if filename.lower().endswith(valid_extensions):\n",
    "            img_path = os.path.join(subfolder_path, filename)\n",
    "            try:\n",
    "                img = Image.open(img_path)\n",
    "                images.append(img)\n",
    "            except Exception as e:\n",
    "                print(f\"Erreur chargement image {img_path} : {e}\")\n",
    "    \n",
    "    return images\n",
    "'''\n",
    "subfolder_path = \"/workspace/data/AID_sample_100png/celeba_sample_100.jpg\"\n",
    "images = load_images_from_subfolder(subfolder_path)\n",
    "print(f\"Nombre d'images chargées : {len(images)}\")\n",
    "type(images[0])'''"
   ]
  },
  {
   "cell_type": "markdown",
   "id": "84856248",
   "metadata": {},
   "source": [
    "# Compute each results and save it as JSON"
   ]
  },
  {
   "cell_type": "markdown",
   "id": "167269b1",
   "metadata": {},
   "source": [
    "## Remote-CLIP"
   ]
  },
  {
   "cell_type": "code",
   "execution_count": 31,
   "id": "f105cde7",
   "metadata": {},
   "outputs": [
    {
     "name": "stdout",
     "output_type": "stream",
     "text": [
      "<All keys matched successfully>\n"
     ]
    },
    {
     "data": {
      "application/vnd.jupyter.widget-view+json": {
       "model_id": "c123783c09914b57ac1b08e5222742b2",
       "version_major": 2,
       "version_minor": 0
      },
      "text/plain": [
       "  0%|          | 0/4 [00:00<?, ?it/s]"
      ]
     },
     "metadata": {},
     "output_type": "display_data"
    },
    {
     "data": {
      "application/vnd.jupyter.widget-view+json": {
       "model_id": "97a917d98c8e42c7b94c98a6917de042",
       "version_major": 2,
       "version_minor": 0
      },
      "text/plain": [
       "  0%|          | 0/4 [00:00<?, ?it/s]"
      ]
     },
     "metadata": {},
     "output_type": "display_data"
    },
    {
     "data": {
      "text/plain": [
       "CLIP(\n",
       "  (visual): VisionTransformer(\n",
       "    (conv1): Conv2d(3, 1024, kernel_size=(14, 14), stride=(14, 14), bias=False)\n",
       "    (patch_dropout): Identity()\n",
       "    (ln_pre): LayerNorm((1024,), eps=1e-05, elementwise_affine=True)\n",
       "    (transformer): Transformer(\n",
       "      (resblocks): ModuleList(\n",
       "        (0-23): 24 x ResidualAttentionBlock(\n",
       "          (ln_1): LayerNorm((1024,), eps=1e-05, elementwise_affine=True)\n",
       "          (attn): MultiheadAttention(\n",
       "            (out_proj): NonDynamicallyQuantizableLinear(in_features=1024, out_features=1024, bias=True)\n",
       "          )\n",
       "          (ls_1): Identity()\n",
       "          (ln_2): LayerNorm((1024,), eps=1e-05, elementwise_affine=True)\n",
       "          (mlp): Sequential(\n",
       "            (c_fc): Linear(in_features=1024, out_features=4096, bias=True)\n",
       "            (gelu): GELU(approximate='none')\n",
       "            (c_proj): Linear(in_features=4096, out_features=1024, bias=True)\n",
       "          )\n",
       "          (ls_2): Identity()\n",
       "        )\n",
       "      )\n",
       "    )\n",
       "    (ln_post): LayerNorm((1024,), eps=1e-05, elementwise_affine=True)\n",
       "  )\n",
       "  (transformer): Transformer(\n",
       "    (resblocks): ModuleList(\n",
       "      (0-11): 12 x ResidualAttentionBlock(\n",
       "        (ln_1): LayerNorm((768,), eps=1e-05, elementwise_affine=True)\n",
       "        (attn): MultiheadAttention(\n",
       "          (out_proj): NonDynamicallyQuantizableLinear(in_features=768, out_features=768, bias=True)\n",
       "        )\n",
       "        (ls_1): Identity()\n",
       "        (ln_2): LayerNorm((768,), eps=1e-05, elementwise_affine=True)\n",
       "        (mlp): Sequential(\n",
       "          (c_fc): Linear(in_features=768, out_features=3072, bias=True)\n",
       "          (gelu): GELU(approximate='none')\n",
       "          (c_proj): Linear(in_features=3072, out_features=768, bias=True)\n",
       "        )\n",
       "        (ls_2): Identity()\n",
       "      )\n",
       "    )\n",
       "  )\n",
       "  (token_embedding): Embedding(49408, 768)\n",
       "  (ln_final): LayerNorm((768,), eps=1e-05, elementwise_affine=True)\n",
       ")"
      ]
     },
     "execution_count": 31,
     "metadata": {},
     "output_type": "execute_result"
    }
   ],
   "source": [
    "import json\n",
    "from tqdm.auto import tqdm\n",
    "\n",
    "dir_path = '/workspace/data/AID_100samples'\n",
    "\n",
    "rem_model, _, rem_preprocess = open_clip.create_model_and_transforms(rem_model_name)\n",
    "\n",
    "ckpt = torch.load(f\"/workspace/framework_choose_lr/dev/clip_study/checkpoints/models--chendelong--RemoteCLIP/snapshots/bf1d8a3ccf2ddbf7c875705e46373bfe542bce38/RemoteCLIP-ViT-L-14.pt\", map_location=\"cpu\")\n",
    "message = rem_model.load_state_dict(ckpt)\n",
    "print(message)\n",
    "\n",
    "rem_model = rem_model.to(device).eval()\n",
    "\n",
    "# each class is compared to Industrial\n",
    "classes = ['School', 'Industrial', 'Desert', 'CelebA']\n",
    "#classes = [c for c in os.listdir(dir_path)]\n",
    "rem_res = {}\n",
    "img_list_per_fold = {}\n",
    "class_feats = {}\n",
    "\n",
    "for c in tqdm(classes):\n",
    "    subfolder_path = os.path.join(dir_path, c)\n",
    "    img_list_per_fold[c] = load_images_from_subfolder(subfolder_path)\n",
    "    class_feats[c] = compute_rem_clip_feats(img_list_per_fold[c])\n",
    "\n",
    "for c, v in tqdm(class_feats.items()):\n",
    "    rem_res[c] = compute_cross_clip_scores(class_feats['School'], v)\n",
    "\n",
    "with open('/workspace/framework_choose_lr/dev/clip_study/results_scores/remote_scores.json', 'w') as file:\n",
    "    json.dump(rem_res, file)\n",
    "\n",
    "rem_model.cpu()"
   ]
  },
  {
   "cell_type": "markdown",
   "id": "c8cdcf32",
   "metadata": {},
   "source": [
    "## OPEN-CLIP (CLIPA-v2)"
   ]
  },
  {
   "cell_type": "code",
   "execution_count": 32,
   "id": "a165b487",
   "metadata": {},
   "outputs": [
    {
     "data": {
      "application/vnd.jupyter.widget-view+json": {
       "model_id": "34425b2aae454242bb120f9e0a872cb1",
       "version_major": 2,
       "version_minor": 0
      },
      "text/plain": [
       "  0%|          | 0/4 [00:00<?, ?it/s]"
      ]
     },
     "metadata": {},
     "output_type": "display_data"
    },
    {
     "data": {
      "application/vnd.jupyter.widget-view+json": {
       "model_id": "e61fba27ce03497ba3f07f99c8a54e4f",
       "version_major": 2,
       "version_minor": 0
      },
      "text/plain": [
       "  0%|          | 0/4 [00:00<?, ?it/s]"
      ]
     },
     "metadata": {},
     "output_type": "display_data"
    },
    {
     "data": {
      "text/plain": [
       "CLIP(\n",
       "  (visual): VisionTransformer(\n",
       "    (conv1): Conv2d(3, 1664, kernel_size=(14, 14), stride=(14, 14), bias=False)\n",
       "    (patch_dropout): Identity()\n",
       "    (ln_pre): Identity()\n",
       "    (transformer): Transformer(\n",
       "      (resblocks): ModuleList(\n",
       "        (0-47): 48 x ResidualAttentionBlock(\n",
       "          (ln_1): LayerNorm((1664,), eps=1e-05, elementwise_affine=True)\n",
       "          (attn): MultiheadAttention(\n",
       "            (out_proj): NonDynamicallyQuantizableLinear(in_features=1664, out_features=1664, bias=True)\n",
       "          )\n",
       "          (ls_1): Identity()\n",
       "          (ln_2): LayerNorm((1664,), eps=1e-05, elementwise_affine=True)\n",
       "          (mlp): Sequential(\n",
       "            (c_fc): Linear(in_features=1664, out_features=8192, bias=True)\n",
       "            (gelu): GELU(approximate='none')\n",
       "            (c_proj): Linear(in_features=8192, out_features=1664, bias=True)\n",
       "          )\n",
       "          (ls_2): Identity()\n",
       "        )\n",
       "      )\n",
       "    )\n",
       "    (ln_post): LayerNorm((1664,), eps=1e-05, elementwise_affine=True)\n",
       "  )\n",
       "  (transformer): Transformer(\n",
       "    (resblocks): ModuleList(\n",
       "      (0-31): 32 x ResidualAttentionBlock(\n",
       "        (ln_1): LayerNorm((1280,), eps=1e-05, elementwise_affine=True)\n",
       "        (attn): MultiheadAttention(\n",
       "          (out_proj): NonDynamicallyQuantizableLinear(in_features=1280, out_features=1280, bias=True)\n",
       "        )\n",
       "        (ls_1): Identity()\n",
       "        (ln_2): LayerNorm((1280,), eps=1e-05, elementwise_affine=True)\n",
       "        (mlp): Sequential(\n",
       "          (c_fc): Linear(in_features=1280, out_features=5120, bias=True)\n",
       "          (gelu): GELU(approximate='none')\n",
       "          (c_proj): Linear(in_features=5120, out_features=1280, bias=True)\n",
       "        )\n",
       "        (ls_2): Identity()\n",
       "      )\n",
       "    )\n",
       "  )\n",
       "  (token_embedding): Embedding(32000, 1280)\n",
       "  (ln_final): LayerNorm((1280,), eps=1e-05, elementwise_affine=True)\n",
       ")"
      ]
     },
     "execution_count": 32,
     "metadata": {},
     "output_type": "execute_result"
    }
   ],
   "source": [
    "dir_path = '/workspace/data/AID_100samples'\n",
    "\n",
    "# each class is compared to Industrial\n",
    "classes = ['School', 'Industrial', 'Desert', 'CelebA']\n",
    "#classes = [c for c in os.listdir(dir_path)]\n",
    "open_res = {}\n",
    "img_list_per_fold = {}\n",
    "class_feats = {}\n",
    "\n",
    "open_model_name = 'clipa-ViT-bigG-14' \n",
    "open_model, open_img_size = open_load_model(open_model_name)\n",
    "\n",
    "for c in tqdm(classes):\n",
    "    subfolder_path = os.path.join(dir_path, c)\n",
    "    img_list_per_fold[c] = load_images_from_subfolder(subfolder_path)\n",
    "    class_feats[c] = compute_open_clip_feats(img_list_per_fold[c], open_model=open_model, img_size=open_img_size)\n",
    "\n",
    "for c, v in tqdm(class_feats.items()):\n",
    "    open_res[c] = compute_cross_clip_scores(class_feats['School'], v)\n",
    "\n",
    "with open('/workspace/framework_choose_lr/dev/clip_study/results_scores/open_scores.json', 'w') as file:\n",
    "    json.dump(open_res, file)\n",
    "\n",
    "open_model.cpu()"
   ]
  },
  {
   "cell_type": "markdown",
   "id": "0dfbcfa2",
   "metadata": {},
   "source": [
    "## RS-CLIP"
   ]
  },
  {
   "cell_type": "code",
   "execution_count": 33,
   "id": "f63e6f5e",
   "metadata": {},
   "outputs": [
    {
     "data": {
      "application/vnd.jupyter.widget-view+json": {
       "model_id": "b0a9b6789bbc409c941127c9a88c053c",
       "version_major": 2,
       "version_minor": 0
      },
      "text/plain": [
       "  0%|          | 0/4 [00:00<?, ?it/s]"
      ]
     },
     "metadata": {},
     "output_type": "display_data"
    },
    {
     "data": {
      "application/vnd.jupyter.widget-view+json": {
       "model_id": "80ad6666d614467890fccad23d2fe365",
       "version_major": 2,
       "version_minor": 0
      },
      "text/plain": [
       "  0%|          | 0/4 [00:00<?, ?it/s]"
      ]
     },
     "metadata": {},
     "output_type": "display_data"
    },
    {
     "data": {
      "text/plain": [
       "SiglipModel(\n",
       "  (text_model): SiglipTextTransformer(\n",
       "    (embeddings): SiglipTextEmbeddings(\n",
       "      (token_embedding): Embedding(32000, 1024)\n",
       "      (position_embedding): Embedding(64, 1024)\n",
       "    )\n",
       "    (encoder): SiglipEncoder(\n",
       "      (layers): ModuleList(\n",
       "        (0-23): 24 x SiglipEncoderLayer(\n",
       "          (layer_norm1): LayerNorm((1024,), eps=1e-06, elementwise_affine=True)\n",
       "          (self_attn): SiglipAttention(\n",
       "            (k_proj): Linear(in_features=1024, out_features=1024, bias=True)\n",
       "            (v_proj): Linear(in_features=1024, out_features=1024, bias=True)\n",
       "            (q_proj): Linear(in_features=1024, out_features=1024, bias=True)\n",
       "            (out_proj): Linear(in_features=1024, out_features=1024, bias=True)\n",
       "          )\n",
       "          (layer_norm2): LayerNorm((1024,), eps=1e-06, elementwise_affine=True)\n",
       "          (mlp): SiglipMLP(\n",
       "            (activation_fn): PytorchGELUTanh()\n",
       "            (fc1): Linear(in_features=1024, out_features=4096, bias=True)\n",
       "            (fc2): Linear(in_features=4096, out_features=1024, bias=True)\n",
       "          )\n",
       "        )\n",
       "      )\n",
       "    )\n",
       "    (final_layer_norm): LayerNorm((1024,), eps=1e-06, elementwise_affine=True)\n",
       "    (head): Linear(in_features=1024, out_features=1024, bias=True)\n",
       "  )\n",
       "  (vision_model): SiglipVisionTransformer(\n",
       "    (embeddings): SiglipVisionEmbeddings(\n",
       "      (patch_embedding): Conv2d(3, 1024, kernel_size=(16, 16), stride=(16, 16), padding=valid)\n",
       "      (position_embedding): Embedding(256, 1024)\n",
       "    )\n",
       "    (encoder): SiglipEncoder(\n",
       "      (layers): ModuleList(\n",
       "        (0-23): 24 x SiglipEncoderLayer(\n",
       "          (layer_norm1): LayerNorm((1024,), eps=1e-06, elementwise_affine=True)\n",
       "          (self_attn): SiglipAttention(\n",
       "            (k_proj): Linear(in_features=1024, out_features=1024, bias=True)\n",
       "            (v_proj): Linear(in_features=1024, out_features=1024, bias=True)\n",
       "            (q_proj): Linear(in_features=1024, out_features=1024, bias=True)\n",
       "            (out_proj): Linear(in_features=1024, out_features=1024, bias=True)\n",
       "          )\n",
       "          (layer_norm2): LayerNorm((1024,), eps=1e-06, elementwise_affine=True)\n",
       "          (mlp): SiglipMLP(\n",
       "            (activation_fn): PytorchGELUTanh()\n",
       "            (fc1): Linear(in_features=1024, out_features=4096, bias=True)\n",
       "            (fc2): Linear(in_features=4096, out_features=1024, bias=True)\n",
       "          )\n",
       "        )\n",
       "      )\n",
       "    )\n",
       "    (post_layernorm): LayerNorm((1024,), eps=1e-06, elementwise_affine=True)\n",
       "    (head): SiglipMultiheadAttentionPoolingHead(\n",
       "      (attention): MultiheadAttention(\n",
       "        (out_proj): NonDynamicallyQuantizableLinear(in_features=1024, out_features=1024, bias=True)\n",
       "      )\n",
       "      (layernorm): LayerNorm((1024,), eps=1e-06, elementwise_affine=True)\n",
       "      (mlp): SiglipMLP(\n",
       "        (activation_fn): PytorchGELUTanh()\n",
       "        (fc1): Linear(in_features=1024, out_features=4096, bias=True)\n",
       "        (fc2): Linear(in_features=4096, out_features=1024, bias=True)\n",
       "      )\n",
       "    )\n",
       "  )\n",
       ")"
      ]
     },
     "execution_count": 33,
     "metadata": {},
     "output_type": "execute_result"
    }
   ],
   "source": [
    "dir_path = '/workspace/data/AID_100samples'\n",
    "\n",
    "# each class is compared to Industrial\n",
    "classes = ['School', 'Industrial', 'Desert', 'CelebA']\n",
    "#classes = [c for c in os.listdir(dir_path)]\n",
    "rs_res = {}\n",
    "img_list_per_fold = {}\n",
    "class_feats = {}\n",
    "\n",
    "rs_model = AutoModel.from_pretrained(\"lcybuaa/Git-RSCLIP\").to(device)\n",
    "rs_processor = AutoProcessor.from_pretrained(\"lcybuaa/Git-RSCLIP\")\n",
    "\n",
    "for c in tqdm(classes):\n",
    "    subfolder_path = os.path.join(dir_path, c)\n",
    "    img_list_per_fold[c] = load_images_from_subfolder(subfolder_path)\n",
    "    class_feats[c] = compute_rs_clip_feats(img_list_per_fold[c])\n",
    "\n",
    "for c, v in tqdm(class_feats.items()):\n",
    "    rs_res[c] = compute_cross_clip_scores(class_feats['School'], v)\n",
    "\n",
    "with open('/workspace/framework_choose_lr/dev/clip_study/results_scores/rs_scores.json', 'w') as file:\n",
    "    json.dump(rs_res, file)\n",
    "\n",
    "rs_model.cpu()"
   ]
  },
  {
   "cell_type": "markdown",
   "id": "f5a2b389",
   "metadata": {},
   "source": [
    "## Geo RSCLIP"
   ]
  },
  {
   "cell_type": "code",
   "execution_count": null,
   "id": "1dd9124d",
   "metadata": {},
   "outputs": [
    {
     "data": {
      "application/vnd.jupyter.widget-view+json": {
       "model_id": "e5eca9069d824f058ff886684cb88d32",
       "version_major": 2,
       "version_minor": 0
      },
      "text/plain": [
       "open_clip_model.safetensors:   0%|          | 0.00/3.94G [00:00<?, ?B/s]"
      ]
     },
     "metadata": {},
     "output_type": "display_data"
    },
    {
     "data": {
      "application/vnd.jupyter.widget-view+json": {
       "model_id": "125fc4ad44374e2abf8a9ad202b3a835",
       "version_major": 2,
       "version_minor": 0
      },
      "text/plain": [
       "  0%|          | 0/4 [00:00<?, ?it/s]"
      ]
     },
     "metadata": {},
     "output_type": "display_data"
    },
    {
     "data": {
      "application/vnd.jupyter.widget-view+json": {
       "model_id": "0c6f87656b694af88cc543b94aeeaa66",
       "version_major": 2,
       "version_minor": 0
      },
      "text/plain": [
       "  0%|          | 0/4 [00:00<?, ?it/s]"
      ]
     },
     "metadata": {},
     "output_type": "display_data"
    },
    {
     "data": {
      "text/plain": [
       "CLIP(\n",
       "  (visual): VisionTransformer(\n",
       "    (conv1): Conv2d(3, 768, kernel_size=(32, 32), stride=(32, 32), bias=False)\n",
       "    (patch_dropout): Identity()\n",
       "    (ln_pre): LayerNorm((768,), eps=1e-05, elementwise_affine=True)\n",
       "    (transformer): Transformer(\n",
       "      (resblocks): ModuleList(\n",
       "        (0-11): 12 x ResidualAttentionBlock(\n",
       "          (ln_1): LayerNorm((768,), eps=1e-05, elementwise_affine=True)\n",
       "          (attn): MultiheadAttention(\n",
       "            (out_proj): NonDynamicallyQuantizableLinear(in_features=768, out_features=768, bias=True)\n",
       "          )\n",
       "          (ls_1): Identity()\n",
       "          (ln_2): LayerNorm((768,), eps=1e-05, elementwise_affine=True)\n",
       "          (mlp): Sequential(\n",
       "            (c_fc): Linear(in_features=768, out_features=3072, bias=True)\n",
       "            (gelu): GELU(approximate='none')\n",
       "            (c_proj): Linear(in_features=3072, out_features=768, bias=True)\n",
       "          )\n",
       "          (ls_2): Identity()\n",
       "        )\n",
       "      )\n",
       "    )\n",
       "    (ln_post): LayerNorm((768,), eps=1e-05, elementwise_affine=True)\n",
       "  )\n",
       "  (transformer): Transformer(\n",
       "    (resblocks): ModuleList(\n",
       "      (0-11): 12 x ResidualAttentionBlock(\n",
       "        (ln_1): LayerNorm((512,), eps=1e-05, elementwise_affine=True)\n",
       "        (attn): MultiheadAttention(\n",
       "          (out_proj): NonDynamicallyQuantizableLinear(in_features=512, out_features=512, bias=True)\n",
       "        )\n",
       "        (ls_1): Identity()\n",
       "        (ln_2): LayerNorm((512,), eps=1e-05, elementwise_affine=True)\n",
       "        (mlp): Sequential(\n",
       "          (c_fc): Linear(in_features=512, out_features=2048, bias=True)\n",
       "          (gelu): GELU(approximate='none')\n",
       "          (c_proj): Linear(in_features=2048, out_features=512, bias=True)\n",
       "        )\n",
       "        (ls_2): Identity()\n",
       "      )\n",
       "    )\n",
       "  )\n",
       "  (token_embedding): Embedding(49408, 512)\n",
       "  (ln_final): LayerNorm((512,), eps=1e-05, elementwise_affine=True)\n",
       ")"
      ]
     },
     "execution_count": 56,
     "metadata": {},
     "output_type": "execute_result"
    }
   ],
   "source": [
    "dir_path = '/workspace/data/AID_100samples'\n",
    "\n",
    "ckpt_path = \"/workspace/framework_choose_lr/dev/clip_study/checkpoints/Geo_RSCLIP_RS5M_ViT-B-32.pt\"\n",
    "geo_model, _, _ = open_clip.create_model_and_transforms(\"ViT-B/32\", pretrained=\"openai\")\n",
    "checkpoint = torch.load(ckpt_path, map_location=\"cpu\")\n",
    "msg = geo_model.load_state_dict(checkpoint, strict=False)\n",
    "\n",
    "\n",
    "'''ckpt_path = \"/workspace/framework_choose_lr/dev/clip_study/checkpoints/RS5M_ViT-H-14.pt\"\n",
    "model, _, _ = open_clip.create_model_and_transforms(\"ViT-H/14\", pretrained=\"laion2b_s32b_b79k\")\n",
    "checkpoint = torch.load(ckpt_path, map_location=\"cpu\")\n",
    "msg = model.load_state_dict(checkpoint, strict=False)'''\n",
    "\n",
    "geo_model = geo_model.to(device)\n",
    "\n",
    "# each class is compared to Industrial\n",
    "classes = ['School', 'Industrial', 'Desert', 'CelebA']\n",
    "#classes = [c for c in os.listdir(dir_path)]\n",
    "geo_res = {}\n",
    "img_list_per_fold = {}\n",
    "class_feats = {}\n",
    "\n",
    "for c in tqdm(classes):\n",
    "    subfolder_path = os.path.join(dir_path, c)\n",
    "    img_list_per_fold[c] = load_images_from_subfolder(subfolder_path)\n",
    "    class_feats[c] = compute_geo_clip_feats(img_list_per_fold[c])\n",
    "\n",
    "for c, v in tqdm(class_feats.items()):\n",
    "    rem_res[c] = compute_cross_clip_scores(class_feats['School'], v)\n",
    "\n",
    "with open('/workspace/framework_choose_lr/dev/clip_study/results_scores/geo_scores.json', 'w') as file:\n",
    "    json.dump(rem_res, file)\n",
    "\n",
    "geo_model.cpu()"
   ]
  },
  {
   "cell_type": "markdown",
   "id": "be75772a",
   "metadata": {},
   "source": [
    "# Plot results"
   ]
  },
  {
   "cell_type": "code",
   "execution_count": 20,
   "id": "d1e91259",
   "metadata": {},
   "outputs": [],
   "source": [
    "import matplotlib.pyplot as plt\n",
    "import torch\n",
    "import numpy as np\n",
    "import torchvision\n",
    "import glob\n",
    "import pandas as pd\n",
    "import os\n",
    "import clip\n",
    "import torch\n",
    "import open_clip\n",
    "import torch.nn.functional as F\n",
    "from transformers import AutoProcessor, AutoModel\n",
    "import opensr_test as osr\n",
    "from torch.utils import data as data\n",
    "import torchvision.io as io\n",
    "from torchmetrics.image import PeakSignalNoiseRatio\n",
    "from torchmetrics.image import StructuralSimilarityIndexMeasure\n",
    "from tqdm.auto import tqdm\n",
    "import json\n",
    "import lpips\n",
    "import math"
   ]
  },
  {
   "cell_type": "code",
   "execution_count": 21,
   "id": "b51b410a",
   "metadata": {},
   "outputs": [],
   "source": [
    "import matplotlib.pyplot as plt\n",
    "import numpy as np\n",
    "\n",
    "def plot_histograms_with_means(data_dict):\n",
    "    \"\"\"\n",
    "    data_dict: dict[str, list[float]]\n",
    "    Affiche un histogramme par clé avec la moyenne indiquée en label et une ligne verticale pointillée.\n",
    "    \"\"\"\n",
    "\n",
    "    plt.figure(figsize=(12, 6))\n",
    "    colors = plt.cm.get_cmap('tab10', len(data_dict))  # palette de couleurs\n",
    "\n",
    "    for i, (key, values) in enumerate(data_dict.items()):\n",
    "        values = np.array(values)\n",
    "        mean_val = values.mean()\n",
    "        \n",
    "        # Tracer histogramme avec label incluant la moyenne\n",
    "        plt.hist(values, bins=30, alpha=0.6, color=colors(i), density=True, label=f\"Industrial-{key} (mean={mean_val:.3f})\")\n",
    "        \n",
    "        # Tracer ligne verticale pointillée à la moyenne\n",
    "        plt.axvline(mean_val, color=colors(i), linestyle='dotted', linewidth=2)\n",
    "    \n",
    "    plt.xlabel('Values')\n",
    "    plt.ylabel('Frequency')\n",
    "    plt.title('Histograms with means')\n",
    "    plt.legend()\n",
    "    plt.grid(True)\n",
    "    plt.show()\n",
    "\n",
    "# Exemple d'utilisation avec ton dict 'rem_dict'\n",
    "#plot_histograms_with_means(d)\n"
   ]
  },
  {
   "cell_type": "code",
   "execution_count": 65,
   "id": "67775ddb",
   "metadata": {},
   "outputs": [
    {
     "name": "stderr",
     "output_type": "stream",
     "text": [
      "/tmp/ipykernel_2373834/3547561348.py:30: MatplotlibDeprecationWarning: The get_cmap function was deprecated in Matplotlib 3.7 and will be removed in 3.11. Use ``matplotlib.colormaps[name]`` or ``matplotlib.colormaps.get_cmap()`` or ``pyplot.get_cmap()`` instead.\n",
      "  colors = plt.cm.get_cmap('tab10', len(data_dict))\n"
     ]
    },
    {
     "data": {
      "image/png": "[encoded data removed]",
      "text/plain": [
       "<Figure size 2000x400 with 4 Axes>"
      ]
     },
     "metadata": {},
     "output_type": "display_data"
    }
   ],
   "source": [
    "import math\n",
    "import numpy as np\n",
    "import matplotlib.pyplot as plt\n",
    "\n",
    "def plot_multiple_dicts_histograms(dict_paths, titles):\n",
    "    n = len(dict_paths)\n",
    "    ncols = 4\n",
    "    nrows = math.ceil(n / ncols)\n",
    "\n",
    "    # First pass: collect all values to find global min and max\n",
    "    all_values = []\n",
    "    for p in dict_paths:\n",
    "        data_dict = load_json(p)\n",
    "        for values in data_dict.values():\n",
    "            all_values.extend(values)\n",
    "    \n",
    "    global_min = np.min(all_values)\n",
    "    global_max = np.max(all_values)\n",
    "    \n",
    "    fig, axes = plt.subplots(nrows, ncols, figsize=(5*ncols, 4*nrows), squeeze=False)\n",
    "    \n",
    "    for i, p in enumerate(dict_paths):\n",
    "        row = i // ncols\n",
    "        col = i % ncols\n",
    "        ax = axes[row, col]\n",
    "        \n",
    "        data_dict = load_json(p)\n",
    "        title = titles[i]\n",
    "\n",
    "        colors = plt.cm.get_cmap('tab10', len(data_dict))\n",
    "        \n",
    "        for j, (key, values) in enumerate(data_dict.items()):\n",
    "            values = np.array(values)\n",
    "            mean_val = values.mean()\n",
    "\n",
    "            ax.hist(values, bins=30, alpha=0.6, color=colors(j), density=True,\n",
    "                    label=f\"School-{key}\")\n",
    "            #ax.axvline(mean_val, color=colors(j), linestyle='dotted', linewidth=2)\n",
    "        \n",
    "        ax.set_xlabel('CLIPScore')\n",
    "        ax.set_ylabel('Distribution')\n",
    "        ax.set_title(title)\n",
    "        ax.legend()\n",
    "        ax.grid(True)\n",
    "        \n",
    "        # Set the same x-axis limits for all subplots\n",
    "        ax.set_xlim(global_min, global_max)\n",
    "\n",
    "    # Hide unused subplots if any\n",
    "    for k in range(n, nrows*ncols):\n",
    "        fig.delaxes(axes[k//ncols, k%ncols])\n",
    "    \n",
    "    fig.suptitle('Distribution of distances of images from selected classes and class School')\n",
    "    plt.tight_layout()\n",
    "    plt.show()\n",
    "\n",
    "\n",
    "dict_paths = [\n",
    "    '/workspace/framework_choose_lr/dev/clip_study/results_scores/remote_scores.json',\n",
    "    '/workspace/framework_choose_lr/dev/clip_study/results_scores/open_scores.json',\n",
    "    '/workspace/framework_choose_lr/dev/clip_study/results_scores/rs_scores.json',\n",
    "    '/workspace/framework_choose_lr/dev/clip_study/results_scores/geo_scores.json'\n",
    "]\n",
    "\n",
    "titles = ['RemoteCLIP', 'CLIPA-v2', 'Git_RSCLIP', 'Geo-RSCLIP']\n",
    "\n",
    "plot_multiple_dicts_histograms(dict_paths, titles)"
   ]
  }
 ],
 "metadata": {
  "kernelspec": {
   "display_name": ".venv",
   "language": "python",
   "name": "python3"
  },
  "language_info": {
   "codemirror_mode": {
    "name": "ipython",
    "version": 3
   },
   "file_extension": ".py",
   "mimetype": "text/x-python",
   "name": "python",
   "nbconvert_exporter": "python",
   "pygments_lexer": "ipython3",
   "version": "3.9.21"
  }
 },
 "nbformat": 4,
 "nbformat_minor": 5
}
